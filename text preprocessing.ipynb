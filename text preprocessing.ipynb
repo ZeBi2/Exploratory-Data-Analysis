{
 "cells": [
  {
   "cell_type": "markdown",
   "id": "1c0d5237",
   "metadata": {},
   "source": [
    "# text cleaning"
   ]
  },
  {
   "cell_type": "code",
   "execution_count": 24,
   "id": "43fa87cf",
   "metadata": {},
   "outputs": [],
   "source": [
    "import pandas as pd\n",
    "import string\n",
    "import nltk\n",
    "from nltk.corpus import stopwords\n",
    "from nltk.tokenize import word_tokenize\n",
    "from nltk.stem import WordNetLemmatizer\n",
    "import re"
   ]
  },
  {
   "cell_type": "code",
   "execution_count": 6,
   "id": "c08e3745",
   "metadata": {},
   "outputs": [
    {
     "name": "stderr",
     "output_type": "stream",
     "text": [
      "[nltk_data] Downloading package punkt to\n",
      "[nltk_data]     C:\\Users\\PMYLS\\AppData\\Roaming\\nltk_data...\n",
      "[nltk_data]   Package punkt is already up-to-date!\n"
     ]
    },
    {
     "data": {
      "text/plain": [
       "True"
      ]
     },
     "execution_count": 6,
     "metadata": {},
     "output_type": "execute_result"
    }
   ],
   "source": [
    "import nltk\n",
    "nltk.download('punkt')"
   ]
  },
  {
   "cell_type": "code",
   "execution_count": 7,
   "id": "a5de08e6",
   "metadata": {},
   "outputs": [
    {
     "name": "stdout",
     "output_type": "stream",
     "text": [
      "['C:\\\\Users\\\\PMYLS/nltk_data', 'C:\\\\Users\\\\PMYLS\\\\anaconda3\\\\nltk_data', 'C:\\\\Users\\\\PMYLS\\\\anaconda3\\\\share\\\\nltk_data', 'C:\\\\Users\\\\PMYLS\\\\anaconda3\\\\lib\\\\nltk_data', 'C:\\\\Users\\\\PMYLS\\\\AppData\\\\Roaming\\\\nltk_data', 'C:\\\\nltk_data', 'D:\\\\nltk_data', 'E:\\\\nltk_data']\n"
     ]
    }
   ],
   "source": [
    "import nltk\n",
    "print(nltk.data.path)"
   ]
  },
  {
   "cell_type": "code",
   "execution_count": 8,
   "id": "def27867",
   "metadata": {},
   "outputs": [],
   "source": [
    "nltk.data.path.append('C:\\\\Users\\\\PMYLS\\\\AppData\\\\Roaming\\\\nltk_data')\n"
   ]
  },
  {
   "cell_type": "code",
   "execution_count": 30,
   "id": "65500dd3",
   "metadata": {},
   "outputs": [
    {
     "name": "stderr",
     "output_type": "stream",
     "text": [
      "[nltk_data] Downloading package stopwords to\n",
      "[nltk_data]     C:\\Users\\PMYLS\\AppData\\Roaming\\nltk_data...\n",
      "[nltk_data]   Package stopwords is already up-to-date!\n"
     ]
    },
    {
     "data": {
      "text/plain": [
       "True"
      ]
     },
     "execution_count": 30,
     "metadata": {},
     "output_type": "execute_result"
    }
   ],
   "source": [
    "nltk.download('stopwords')"
   ]
  },
  {
   "cell_type": "code",
   "execution_count": 31,
   "id": "c1459693",
   "metadata": {},
   "outputs": [
    {
     "name": "stderr",
     "output_type": "stream",
     "text": [
      "[nltk_data] Downloading package wordnet to\n",
      "[nltk_data]     C:\\Users\\PMYLS\\AppData\\Roaming\\nltk_data...\n",
      "[nltk_data]   Package wordnet is already up-to-date!\n"
     ]
    },
    {
     "data": {
      "text/plain": [
       "True"
      ]
     },
     "execution_count": 31,
     "metadata": {},
     "output_type": "execute_result"
    }
   ],
   "source": [
    "nltk.download('wordnet')"
   ]
  },
  {
   "cell_type": "code",
   "execution_count": 22,
   "id": "406a5fa4",
   "metadata": {},
   "outputs": [
    {
     "data": {
      "text/html": [
       "<div>\n",
       "<style scoped>\n",
       "    .dataframe tbody tr th:only-of-type {\n",
       "        vertical-align: middle;\n",
       "    }\n",
       "\n",
       "    .dataframe tbody tr th {\n",
       "        vertical-align: top;\n",
       "    }\n",
       "\n",
       "    .dataframe thead th {\n",
       "        text-align: right;\n",
       "    }\n",
       "</style>\n",
       "<table border=\"1\" class=\"dataframe\">\n",
       "  <thead>\n",
       "    <tr style=\"text-align: right;\">\n",
       "      <th></th>\n",
       "      <th>Text</th>\n",
       "      <th>Label</th>\n",
       "    </tr>\n",
       "  </thead>\n",
       "  <tbody>\n",
       "    <tr>\n",
       "      <th>0</th>\n",
       "      <td>The financial markets are influenced by a myri...</td>\n",
       "      <td>positive</td>\n",
       "    </tr>\n",
       "    <tr>\n",
       "      <th>1</th>\n",
       "      <td>Financial literacy is essential for making inf...</td>\n",
       "      <td>positive</td>\n",
       "    </tr>\n",
       "    <tr>\n",
       "      <th>2</th>\n",
       "      <td>The stock market can be volatile, with prices ...</td>\n",
       "      <td>positive</td>\n",
       "    </tr>\n",
       "    <tr>\n",
       "      <th>3</th>\n",
       "      <td>Financial regulations aim to protect investors...</td>\n",
       "      <td>positive</td>\n",
       "    </tr>\n",
       "    <tr>\n",
       "      <th>4</th>\n",
       "      <td>Access to credit and capital is essential for ...</td>\n",
       "      <td>positive</td>\n",
       "    </tr>\n",
       "    <tr>\n",
       "      <th>5</th>\n",
       "      <td>The complexity of financial products can make ...</td>\n",
       "      <td>negative</td>\n",
       "    </tr>\n",
       "    <tr>\n",
       "      <th>6</th>\n",
       "      <td>High-frequency trading algorithms can exacerba...</td>\n",
       "      <td>negative</td>\n",
       "    </tr>\n",
       "    <tr>\n",
       "      <th>7</th>\n",
       "      <td>Financial institutions play a crucial role in ...</td>\n",
       "      <td>positive</td>\n",
       "    </tr>\n",
       "    <tr>\n",
       "      <th>8</th>\n",
       "      <td>Credit rating agencies are susceptible to conf...</td>\n",
       "      <td>negative</td>\n",
       "    </tr>\n",
       "    <tr>\n",
       "      <th>9</th>\n",
       "      <td>The global financial system is interconnected,...</td>\n",
       "      <td>positive</td>\n",
       "    </tr>\n",
       "    <tr>\n",
       "      <th>10</th>\n",
       "      <td>Financial derivatives can be used to hedge aga...</td>\n",
       "      <td>positive</td>\n",
       "    </tr>\n",
       "    <tr>\n",
       "      <th>11</th>\n",
       "      <td>Financial markets are influenced by psychologi...</td>\n",
       "      <td>positive</td>\n",
       "    </tr>\n",
       "    <tr>\n",
       "      <th>12</th>\n",
       "      <td>Financial bubbles can form when asset prices b...</td>\n",
       "      <td>negative</td>\n",
       "    </tr>\n",
       "    <tr>\n",
       "      <th>13</th>\n",
       "      <td>Financial innovations have the potential to dr...</td>\n",
       "      <td>positive</td>\n",
       "    </tr>\n",
       "    <tr>\n",
       "      <th>14</th>\n",
       "      <td>Market inefficiencies can create opportunities...</td>\n",
       "      <td>positive</td>\n",
       "    </tr>\n",
       "    <tr>\n",
       "      <th>15</th>\n",
       "      <td>The use of leverage in financial markets ampli...</td>\n",
       "      <td>negative</td>\n",
       "    </tr>\n",
       "    <tr>\n",
       "      <th>16</th>\n",
       "      <td>Financial literacy programs aim to empower ind...</td>\n",
       "      <td>positive</td>\n",
       "    </tr>\n",
       "    <tr>\n",
       "      <th>17</th>\n",
       "      <td>Asset allocation is a key strategy for managin...</td>\n",
       "      <td>positive</td>\n",
       "    </tr>\n",
       "    <tr>\n",
       "      <th>18</th>\n",
       "      <td>The practice of short selling allows investors...</td>\n",
       "      <td>positive</td>\n",
       "    </tr>\n",
       "    <tr>\n",
       "      <th>19</th>\n",
       "      <td>Financial markets are influenced by macroecono...</td>\n",
       "      <td>positive</td>\n",
       "    </tr>\n",
       "    <tr>\n",
       "      <th>20</th>\n",
       "      <td>Financial regulators face challenges in keepin...</td>\n",
       "      <td>negative</td>\n",
       "    </tr>\n",
       "    <tr>\n",
       "      <th>21</th>\n",
       "      <td>Algorithmic trading strategies can contribute ...</td>\n",
       "      <td>positive</td>\n",
       "    </tr>\n",
       "    <tr>\n",
       "      <th>22</th>\n",
       "      <td>Financial advisors have a fiduciary duty to ac...</td>\n",
       "      <td>positive</td>\n",
       "    </tr>\n",
       "    <tr>\n",
       "      <th>23</th>\n",
       "      <td>Financial crises can have far-reaching consequ...</td>\n",
       "      <td>positive</td>\n",
       "    </tr>\n",
       "    <tr>\n",
       "      <th>24</th>\n",
       "      <td>The complexity of financial instruments can ob...</td>\n",
       "      <td>negative</td>\n",
       "    </tr>\n",
       "    <tr>\n",
       "      <th>25</th>\n",
       "      <td>Financial markets play a crucial role in alloc...</td>\n",
       "      <td>positive</td>\n",
       "    </tr>\n",
       "    <tr>\n",
       "      <th>26</th>\n",
       "      <td>The practice of front-running in financial mar...</td>\n",
       "      <td>negative</td>\n",
       "    </tr>\n",
       "    <tr>\n",
       "      <th>27</th>\n",
       "      <td>Financial education should be integrated into ...</td>\n",
       "      <td>positive</td>\n",
       "    </tr>\n",
       "    <tr>\n",
       "      <th>28</th>\n",
       "      <td>Financial institutions are vulnerable to cyber...</td>\n",
       "      <td>negative</td>\n",
       "    </tr>\n",
       "    <tr>\n",
       "      <th>29</th>\n",
       "      <td>Financial analysts use a variety of tools and ...</td>\n",
       "      <td>positive</td>\n",
       "    </tr>\n",
       "    <tr>\n",
       "      <th>30</th>\n",
       "      <td>The principles of diversification and asset al...</td>\n",
       "      <td>positive</td>\n",
       "    </tr>\n",
       "    <tr>\n",
       "      <th>31</th>\n",
       "      <td>Financial markets are influenced by geopolitic...</td>\n",
       "      <td>positive</td>\n",
       "    </tr>\n",
       "    <tr>\n",
       "      <th>32</th>\n",
       "      <td>The pursuit of short-term profits can lead to ...</td>\n",
       "      <td>negative</td>\n",
       "    </tr>\n",
       "    <tr>\n",
       "      <th>33</th>\n",
       "      <td>Financial regulations aim to strike a balance ...</td>\n",
       "      <td>positive</td>\n",
       "    </tr>\n",
       "    <tr>\n",
       "      <th>34</th>\n",
       "      <td>Financial markets are susceptible to manipulat...</td>\n",
       "      <td>negative</td>\n",
       "    </tr>\n",
       "    <tr>\n",
       "      <th>35</th>\n",
       "      <td>The concept of risk-adjusted returns is essent...</td>\n",
       "      <td>positive</td>\n",
       "    </tr>\n",
       "    <tr>\n",
       "      <th>36</th>\n",
       "      <td>Financial institutions play a critical role in...</td>\n",
       "      <td>positive</td>\n",
       "    </tr>\n",
       "    <tr>\n",
       "      <th>37</th>\n",
       "      <td>Financial intermediaries facilitate the flow o...</td>\n",
       "      <td>positive</td>\n",
       "    </tr>\n",
       "    <tr>\n",
       "      <th>38</th>\n",
       "      <td>The financialization of the economy has led to...</td>\n",
       "      <td>negative</td>\n",
       "    </tr>\n",
       "    <tr>\n",
       "      <th>39</th>\n",
       "      <td>Financial markets provide opportunities for in...</td>\n",
       "      <td>positive</td>\n",
       "    </tr>\n",
       "    <tr>\n",
       "      <th>40</th>\n",
       "      <td>The regulatory environment for financial servi...</td>\n",
       "      <td>positive</td>\n",
       "    </tr>\n",
       "    <tr>\n",
       "      <th>41</th>\n",
       "      <td>Financial engineering techniques allow firms t...</td>\n",
       "      <td>positive</td>\n",
       "    </tr>\n",
       "    <tr>\n",
       "      <th>42</th>\n",
       "      <td>Financial literacy empowers individuals to mak...</td>\n",
       "      <td>positive</td>\n",
       "    </tr>\n",
       "    <tr>\n",
       "      <th>43</th>\n",
       "      <td>Financial markets play a crucial role in alloc...</td>\n",
       "      <td>positive</td>\n",
       "    </tr>\n",
       "    <tr>\n",
       "      <th>44</th>\n",
       "      <td>Financial globalization has increased the inte...</td>\n",
       "      <td>positive</td>\n",
       "    </tr>\n",
       "    <tr>\n",
       "      <th>45</th>\n",
       "      <td>The use of leverage in financial markets ampli...</td>\n",
       "      <td>negative</td>\n",
       "    </tr>\n",
       "    <tr>\n",
       "      <th>46</th>\n",
       "      <td>Financial institutions play a pivotal role in ...</td>\n",
       "      <td>positive</td>\n",
       "    </tr>\n",
       "    <tr>\n",
       "      <th>47</th>\n",
       "      <td>Financial bubbles can arise when asset prices ...</td>\n",
       "      <td>negative</td>\n",
       "    </tr>\n",
       "  </tbody>\n",
       "</table>\n",
       "</div>"
      ],
      "text/plain": [
       "                                                 Text     Label\n",
       "0   The financial markets are influenced by a myri...  positive\n",
       "1   Financial literacy is essential for making inf...  positive\n",
       "2   The stock market can be volatile, with prices ...  positive\n",
       "3   Financial regulations aim to protect investors...  positive\n",
       "4   Access to credit and capital is essential for ...  positive\n",
       "5   The complexity of financial products can make ...  negative\n",
       "6   High-frequency trading algorithms can exacerba...  negative\n",
       "7   Financial institutions play a crucial role in ...  positive\n",
       "8   Credit rating agencies are susceptible to conf...  negative\n",
       "9   The global financial system is interconnected,...  positive\n",
       "10  Financial derivatives can be used to hedge aga...  positive\n",
       "11  Financial markets are influenced by psychologi...  positive\n",
       "12  Financial bubbles can form when asset prices b...  negative\n",
       "13  Financial innovations have the potential to dr...  positive\n",
       "14  Market inefficiencies can create opportunities...  positive\n",
       "15  The use of leverage in financial markets ampli...  negative\n",
       "16  Financial literacy programs aim to empower ind...  positive\n",
       "17  Asset allocation is a key strategy for managin...  positive\n",
       "18  The practice of short selling allows investors...  positive\n",
       "19  Financial markets are influenced by macroecono...  positive\n",
       "20  Financial regulators face challenges in keepin...  negative\n",
       "21  Algorithmic trading strategies can contribute ...  positive\n",
       "22  Financial advisors have a fiduciary duty to ac...  positive\n",
       "23  Financial crises can have far-reaching consequ...  positive\n",
       "24  The complexity of financial instruments can ob...  negative\n",
       "25  Financial markets play a crucial role in alloc...  positive\n",
       "26  The practice of front-running in financial mar...  negative\n",
       "27  Financial education should be integrated into ...  positive\n",
       "28  Financial institutions are vulnerable to cyber...  negative\n",
       "29  Financial analysts use a variety of tools and ...  positive\n",
       "30  The principles of diversification and asset al...  positive\n",
       "31  Financial markets are influenced by geopolitic...  positive\n",
       "32  The pursuit of short-term profits can lead to ...  negative\n",
       "33  Financial regulations aim to strike a balance ...  positive\n",
       "34  Financial markets are susceptible to manipulat...  negative\n",
       "35  The concept of risk-adjusted returns is essent...  positive\n",
       "36  Financial institutions play a critical role in...  positive\n",
       "37  Financial intermediaries facilitate the flow o...  positive\n",
       "38  The financialization of the economy has led to...  negative\n",
       "39  Financial markets provide opportunities for in...  positive\n",
       "40  The regulatory environment for financial servi...  positive\n",
       "41  Financial engineering techniques allow firms t...  positive\n",
       "42  Financial literacy empowers individuals to mak...  positive\n",
       "43  Financial markets play a crucial role in alloc...  positive\n",
       "44  Financial globalization has increased the inte...  positive\n",
       "45  The use of leverage in financial markets ampli...  negative\n",
       "46  Financial institutions play a pivotal role in ...  positive\n",
       "47  Financial bubbles can arise when asset prices ...  negative"
      ]
     },
     "execution_count": 22,
     "metadata": {},
     "output_type": "execute_result"
    }
   ],
   "source": [
    "df=pd.read_csv(\"D:\\Document\\Finance.csv\")\n",
    "df"
   ]
  },
  {
   "cell_type": "markdown",
   "id": "c98a0fe6",
   "metadata": {},
   "source": [
    "# Initialize lemmatizer"
   ]
  },
  {
   "cell_type": "code",
   "execution_count": 32,
   "id": "aaf04a12",
   "metadata": {},
   "outputs": [],
   "source": [
    "lemmatizer = WordNetLemmatizer()\n",
    "stop_words = set(stopwords.words('english'))"
   ]
  },
  {
   "cell_type": "markdown",
   "id": "6965b7fb",
   "metadata": {},
   "source": [
    "# Preprocessing function"
   ]
  },
  {
   "cell_type": "code",
   "execution_count": null,
   "id": "78894d15",
   "metadata": {},
   "outputs": [],
   "source": [
    "def preprocess_text(text):"
   ]
  },
  {
   "cell_type": "markdown",
   "id": "e046784c",
   "metadata": {},
   "source": [
    "### 1. Lowercase the text"
   ]
  },
  {
   "cell_type": "code",
   "execution_count": 34,
   "id": "19344e10",
   "metadata": {},
   "outputs": [],
   "source": [
    " text = text.lower()"
   ]
  },
  {
   "cell_type": "markdown",
   "id": "907ed275",
   "metadata": {},
   "source": [
    "### 2. Remove special characters and numbers"
   ]
  },
  {
   "cell_type": "code",
   "execution_count": 35,
   "id": "5c18f104",
   "metadata": {},
   "outputs": [],
   "source": [
    " text = re.sub(r'[^a-z\\s]', '', text)"
   ]
  },
  {
   "cell_type": "markdown",
   "id": "73c1e694",
   "metadata": {},
   "source": [
    "### 3. Remove extra spaces"
   ]
  },
  {
   "cell_type": "code",
   "execution_count": 36,
   "id": "cf627567",
   "metadata": {},
   "outputs": [],
   "source": [
    " text = re.sub(r'\\s+', ' ', text).strip()"
   ]
  },
  {
   "cell_type": "markdown",
   "id": "253aeb17",
   "metadata": {},
   "source": [
    "### 4. Tokenize the text"
   ]
  },
  {
   "cell_type": "code",
   "execution_count": 37,
   "id": "a4ba0c27",
   "metadata": {},
   "outputs": [],
   "source": [
    " tokens = word_tokenize(text)"
   ]
  },
  {
   "cell_type": "markdown",
   "id": "048a5d09",
   "metadata": {},
   "source": [
    "### 5. Remove stop words"
   ]
  },
  {
   "cell_type": "code",
   "execution_count": 38,
   "id": "8b85d7d3",
   "metadata": {},
   "outputs": [],
   "source": [
    "tokens = [word for word in tokens if word not in stop_words]"
   ]
  },
  {
   "cell_type": "markdown",
   "id": "1029c3f1",
   "metadata": {},
   "source": [
    "### 6. Lemmatize tokens"
   ]
  },
  {
   "cell_type": "code",
   "execution_count": 39,
   "id": "d5c22b63",
   "metadata": {},
   "outputs": [],
   "source": [
    " tokens = [lemmatizer.lemmatize(word) for word in tokens]"
   ]
  },
  {
   "cell_type": "markdown",
   "id": "e3d06852",
   "metadata": {},
   "source": [
    "### Apply preprocessing to the 'Text' column"
   ]
  },
  {
   "cell_type": "code",
   "execution_count": 43,
   "id": "6e280ede",
   "metadata": {},
   "outputs": [],
   "source": [
    "df['Processed_Text'] = df['Text'].apply(preprocess_text)\n"
   ]
  },
  {
   "cell_type": "markdown",
   "id": "72c5fbce",
   "metadata": {},
   "source": [
    "### Display the DataFrame"
   ]
  },
  {
   "cell_type": "code",
   "execution_count": 44,
   "id": "5c15a93c",
   "metadata": {},
   "outputs": [
    {
     "name": "stdout",
     "output_type": "stream",
     "text": [
      "                                                 Text  \\\n",
      "0   The financial markets are influenced by a myri...   \n",
      "1   Financial literacy is essential for making inf...   \n",
      "2   The stock market can be volatile, with prices ...   \n",
      "3   Financial regulations aim to protect investors...   \n",
      "4   Access to credit and capital is essential for ...   \n",
      "5   The complexity of financial products can make ...   \n",
      "6   High-frequency trading algorithms can exacerba...   \n",
      "7   Financial institutions play a crucial role in ...   \n",
      "8   Credit rating agencies are susceptible to conf...   \n",
      "9   The global financial system is interconnected,...   \n",
      "10  Financial derivatives can be used to hedge aga...   \n",
      "11  Financial markets are influenced by psychologi...   \n",
      "12  Financial bubbles can form when asset prices b...   \n",
      "13  Financial innovations have the potential to dr...   \n",
      "14  Market inefficiencies can create opportunities...   \n",
      "15  The use of leverage in financial markets ampli...   \n",
      "16  Financial literacy programs aim to empower ind...   \n",
      "17  Asset allocation is a key strategy for managin...   \n",
      "18  The practice of short selling allows investors...   \n",
      "19  Financial markets are influenced by macroecono...   \n",
      "20  Financial regulators face challenges in keepin...   \n",
      "21  Algorithmic trading strategies can contribute ...   \n",
      "22  Financial advisors have a fiduciary duty to ac...   \n",
      "23  Financial crises can have far-reaching consequ...   \n",
      "24  The complexity of financial instruments can ob...   \n",
      "25  Financial markets play a crucial role in alloc...   \n",
      "26  The practice of front-running in financial mar...   \n",
      "27  Financial education should be integrated into ...   \n",
      "28  Financial institutions are vulnerable to cyber...   \n",
      "29  Financial analysts use a variety of tools and ...   \n",
      "30  The principles of diversification and asset al...   \n",
      "31  Financial markets are influenced by geopolitic...   \n",
      "32  The pursuit of short-term profits can lead to ...   \n",
      "33  Financial regulations aim to strike a balance ...   \n",
      "34  Financial markets are susceptible to manipulat...   \n",
      "35  The concept of risk-adjusted returns is essent...   \n",
      "36  Financial institutions play a critical role in...   \n",
      "37  Financial intermediaries facilitate the flow o...   \n",
      "38  The financialization of the economy has led to...   \n",
      "39  Financial markets provide opportunities for in...   \n",
      "40  The regulatory environment for financial servi...   \n",
      "41  Financial engineering techniques allow firms t...   \n",
      "42  Financial literacy empowers individuals to mak...   \n",
      "43  Financial markets play a crucial role in alloc...   \n",
      "44  Financial globalization has increased the inte...   \n",
      "45  The use of leverage in financial markets ampli...   \n",
      "46  Financial institutions play a pivotal role in ...   \n",
      "47  Financial bubbles can arise when asset prices ...   \n",
      "\n",
      "                                       Processed_Text  \n",
      "0   financial market influenced myriad factor maki...  \n",
      "1   financial literacy essential making informed d...  \n",
      "2   stock market volatile price fluctuating based ...  \n",
      "3   financial regulation aim protect investor main...  \n",
      "4   access credit capital essential promoting econ...  \n",
      "5   complexity financial product make challenging ...  \n",
      "6   highfrequency trading algorithm exacerbate mar...  \n",
      "7   financial institution play crucial role alloca...  \n",
      "8   credit rating agency susceptible conflict inte...  \n",
      "9   global financial system interconnected event o...  \n",
      "10  financial derivative used hedge risk speculate...  \n",
      "11  financial market influenced psychological fact...  \n",
      "12  financial bubble form asset price become disco...  \n",
      "13  financial innovation potential drive economic ...  \n",
      "14  market inefficiency create opportunity investo...  \n",
      "15  use leverage financial market amplifies gain l...  \n",
      "16  financial literacy program aim empower individ...  \n",
      "17  asset allocation key strategy managing risk ac...  \n",
      "18  practice short selling allows investor profit ...  \n",
      "19  financial market influenced macroeconomic indi...  \n",
      "20  financial regulator face challenge keeping pac...  \n",
      "21  algorithmic trading strategy contribute market...  \n",
      "22  financial advisor fiduciary duty act best inte...  \n",
      "23  financial crisis farreaching consequence econo...  \n",
      "24  complexity financial instrument obscure underl...  \n",
      "25  financial market play crucial role allocating ...  \n",
      "26  practice frontrunning financial market undermi...  \n",
      "27  financial education integrated school curricul...  \n",
      "28  financial institution vulnerable cyber attack ...  \n",
      "29  financial analyst use variety tool technique e...  \n",
      "30  principle diversification asset allocation fun...  \n",
      "31  financial market influenced geopolitical event...  \n",
      "32  pursuit shortterm profit lead unsustainable pr...  \n",
      "33  financial regulation aim strike balance market...  \n",
      "34  financial market susceptible manipulation insi...  \n",
      "35  concept riskadjusted return essential evaluati...  \n",
      "36  financial institution play critical role alloc...  \n",
      "37  financial intermediary facilitate flow fund sa...  \n",
      "38  financialization economy led increased volatil...  \n",
      "39  financial market provide opportunity individua...  \n",
      "40  regulatory environment financial service const...  \n",
      "41  financial engineering technique allow firm man...  \n",
      "42  financial literacy empowers individual make in...  \n",
      "43  financial market play crucial role allocating ...  \n",
      "44  financial globalization increased interconnect...  \n",
      "45  use leverage financial market amplifies gain l...  \n",
      "46  financial institution play pivotal role facili...  \n",
      "47  financial bubble arise asset price become deta...  \n"
     ]
    }
   ],
   "source": [
    "print(df[['Text', 'Processed_Text']])"
   ]
  },
  {
   "cell_type": "code",
   "execution_count": null,
   "id": "45f9182c",
   "metadata": {},
   "outputs": [],
   "source": []
  }
 ],
 "metadata": {
  "kernelspec": {
   "display_name": "Python 3 (ipykernel)",
   "language": "python",
   "name": "python3"
  },
  "language_info": {
   "codemirror_mode": {
    "name": "ipython",
    "version": 3
   },
   "file_extension": ".py",
   "mimetype": "text/x-python",
   "name": "python",
   "nbconvert_exporter": "python",
   "pygments_lexer": "ipython3",
   "version": "3.9.18"
  }
 },
 "nbformat": 4,
 "nbformat_minor": 5
}
