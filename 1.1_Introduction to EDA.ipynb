{
 "cells": [
  {
   "cell_type": "markdown",
   "id": "26d6b735",
   "metadata": {},
   "source": [
    "## **What is EDA?**\n",
    "\n",
    "EDA (Exploratory Data Analysis) is the process of:\n",
    "\n",
    "Looking at the data carefully,\n",
    "\n",
    "Understanding its structure and meaning,\n",
    "\n",
    "Finding patterns, relationships, or problems (like missing values or outliers),\n",
    "before applying machine learning or making decisions.\n",
    "\n",
    "In simple words, it’s like \"getting to know your data\"."
   ]
  },
  {
   "cell_type": "markdown",
   "id": "0ebf2636",
   "metadata": {},
   "source": [
    "##  Why is EDA important?\n",
    "\n",
    "EDA is important because it helps to:\n",
    "\n",
    "Understand what the data contains.\n",
    "\n",
    "Detect missing or incorrect values.\n",
    "\n",
    "Identify patterns and trends.\n",
    "\n",
    "Decide which features (columns) are useful for machine learning.\n",
    "\n",
    "Avoid mistakes in modeling due to bad data.\n",
    "\n",
    "Without EDA, you might use wrong assumptions or poor-quality data."
   ]
  },
  {
   "cell_type": "markdown",
   "id": "1bcd4caa",
   "metadata": {},
   "source": [
    "## Types of Data\n",
    "EDA handles different data types:"
   ]
  },
  {
   "cell_type": "markdown",
   "id": "bde95173",
   "metadata": {},
   "source": [
    "| **Type**        | **Explanation**                           | **Example**                  |\n",
    "| --------------- | ----------------------------------------- | ---------------------------- |\n",
    "| **Numerical**   | Data that has numbers and can be measured | Age = 25, Salary = 50000     |\n",
    "| **Categorical** | Data with labels or groups                | Gender = Male/Female         |\n",
    "| **Ordinal**     | Categorical data with order               | Rating = Low < Medium < High |\n",
    "| **Text**        | Free form text                            | Comments, Reviews            |\n",
    "| **Datetime**    | Dates and times                           | 2023-07-07 14:30:00          |\n"
   ]
  }
 ],
 "metadata": {
  "kernelspec": {
   "display_name": "Python 3 (ipykernel)",
   "language": "python",
   "name": "python3"
  },
  "language_info": {
   "codemirror_mode": {
    "name": "ipython",
    "version": 3
   },
   "file_extension": ".py",
   "mimetype": "text/x-python",
   "name": "python",
   "nbconvert_exporter": "python",
   "pygments_lexer": "ipython3",
   "version": "3.9.18"
  }
 },
 "nbformat": 4,
 "nbformat_minor": 5
}
